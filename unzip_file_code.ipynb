{
  "nbformat": 4,
  "nbformat_minor": 0,
  "metadata": {
    "colab": {
      "name": "unzip_file_code.ipynb",
      "provenance": [],
      "collapsed_sections": [],
      "authorship_tag": "ABX9TyMaDii6wiXuIrb3u/+7vGZJ",
      "include_colab_link": true
    },
    "kernelspec": {
      "name": "python3",
      "display_name": "Python 3"
    }
  },
  "cells": [
    {
      "cell_type": "markdown",
      "metadata": {
        "id": "view-in-github",
        "colab_type": "text"
      },
      "source": [
        "<a href=\"https://colab.research.google.com/github/Tariq15994/python/blob/master/unzip_file_code.ipynb\" target=\"_parent\"><img src=\"https://colab.research.google.com/assets/colab-badge.svg\" alt=\"Open In Colab\"/></a>"
      ]
    },
    {
      "cell_type": "markdown",
      "metadata": {
        "id": "fevX6VnDZocc",
        "colab_type": "text"
      },
      "source": [
        "# Google drive ma mojuud zip file ko google colab sa kasa unzip kran"
      ]
    },
    {
      "cell_type": "markdown",
      "metadata": {
        "id": "mKxZwnV_XnKc",
        "colab_type": "text"
      },
      "source": [
        "phla google colab k sath google drive ko mount krain \n",
        "mount krna k lia nechaa walaa code ko run krain , run krna k bad ap ko aak link show hoga uspr click krka drive ko mount krain ,\n",
        "yad rahay k mount krtay waqt us google account ko select kran jaha zip file h  \n"
      ]
    },
    {
      "cell_type": "code",
      "metadata": {
        "id": "LxY1SLQhagur",
        "colab_type": "code",
        "colab": {
          "base_uri": "https://localhost:8080/",
          "height": 124
        },
        "outputId": "83fe3db0-ecae-482e-8424-226978e296ec"
      },
      "source": [
        "from google.colab import drive\n",
        "drive.mount('/content/drive')"
      ],
      "execution_count": 1,
      "outputs": [
        {
          "output_type": "stream",
          "text": [
            "Go to this URL in a browser: https://accounts.google.com/o/oauth2/auth?client_id=947318989803-6bn6qk8qdgf4n4g3pfee6491hc0brc4i.apps.googleusercontent.com&redirect_uri=urn%3aietf%3awg%3aoauth%3a2.0%3aoob&response_type=code&scope=email%20https%3a%2f%2fwww.googleapis.com%2fauth%2fdocs.test%20https%3a%2f%2fwww.googleapis.com%2fauth%2fdrive%20https%3a%2f%2fwww.googleapis.com%2fauth%2fdrive.photos.readonly%20https%3a%2f%2fwww.googleapis.com%2fauth%2fpeopleapi.readonly\n",
            "\n",
            "Enter your authorization code:\n",
            "··········\n",
            "Mounted at /content/drive\n"
          ],
          "name": "stdout"
        }
      ]
    },
    {
      "cell_type": "code",
      "metadata": {
        "id": "4Xpy9f-fW30B",
        "colab_type": "code",
        "colab": {}
      },
      "source": [
        ""
      ],
      "execution_count": 1,
      "outputs": []
    },
    {
      "cell_type": "code",
      "metadata": {
        "id": "m-gP0e8iX-4r",
        "colab_type": "code",
        "colab": {}
      },
      "source": [
        "from zipfile import ZipFile  # yahan import kia h zip file ko "
      ],
      "execution_count": 3,
      "outputs": []
    },
    {
      "cell_type": "markdown",
      "metadata": {
        "id": "GKDfMvgCcMQz",
        "colab_type": "text"
      },
      "source": [
        "ZipFile() k function ma hmm apni  us file ka path daangy jesa hmna unzip krna h jasay mana neecha dia h \n"
      ]
    },
    {
      "cell_type": "markdown",
      "metadata": {
        "id": "gnb8rwSwdaM7",
        "colab_type": "text"
      },
      "source": [
        "extractall() k function ma hmm wo wala path daangy jahan hmna unzip krna h apni file ko \n",
        "\n"
      ]
    },
    {
      "cell_type": "code",
      "metadata": {
        "id": "kMZQ0hQCYNS9",
        "colab_type": "code",
        "colab": {}
      },
      "source": [
        "file = ZipFile(\"/content/drive/My Drive/0664343c9a8f11ea.zip\")   \n",
        "                                                      #\"/content/drive/My Drive/0664343c9a8f11ea.zip\" ya path h zip file ka\n",
        "file.extractall(\"/content/drive/My Drive/\") \n"
      ],
      "execution_count": 4,
      "outputs": []
    },
    {
      "cell_type": "code",
      "metadata": {
        "id": "djIzto3uZZEI",
        "colab_type": "code",
        "colab": {}
      },
      "source": [
        "file.close() # file.close() sa file close krdee"
      ],
      "execution_count": 5,
      "outputs": []
    },
    {
      "cell_type": "code",
      "metadata": {
        "id": "drorM2A9eQG0",
        "colab_type": "code",
        "colab": {}
      },
      "source": [
        ""
      ],
      "execution_count": null,
      "outputs": []
    }
  ]
}